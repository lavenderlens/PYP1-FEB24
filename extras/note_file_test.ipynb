{
 "cells": [
  {
   "cell_type": "markdown",
   "metadata": {},
   "source": [
    "# Jupyter Notes demo"
   ]
  },
  {
   "cell_type": "code",
   "execution_count": 5,
   "metadata": {},
   "outputs": [
    {
     "name": "stdout",
     "output_type": "stream",
     "text": [
      "No. CPUs: 10\n",
      "Encoding: None\n",
      "Dir tree: <generator object _walk at 0x104968320>\n",
      "('./', [], ['os_module.py', 'note_file_test.ipynb'])\n"
     ]
    }
   ],
   "source": [
    "import os\n",
    "try:\n",
    "    print(\"No. CPUs:\", os.cpu_count())\n",
    "    print(\"Encoding:\", os.device_encoding(0))\n",
    "    print(\"Dir tree:\", os.walk('./'))\n",
    "\n",
    "    dir_tree = os.walk('./')\n",
    "except NameError as e:\n",
    "    print(\"os code a bit iffy\", e)\n",
    "for tree in dir_tree:\n",
    "    print(tree)"
   ]
  },
  {
   "cell_type": "markdown",
   "metadata": {},
   "source": [
    "Some uses of the `os` module"
   ]
  }
 ],
 "metadata": {
  "kernelspec": {
   "display_name": "Python 3",
   "language": "python",
   "name": "python3"
  },
  "language_info": {
   "codemirror_mode": {
    "name": "ipython",
    "version": 3
   },
   "file_extension": ".py",
   "mimetype": "text/x-python",
   "name": "python",
   "nbconvert_exporter": "python",
   "pygments_lexer": "ipython3",
   "version": "3.11.2"
  }
 },
 "nbformat": 4,
 "nbformat_minor": 2
}
